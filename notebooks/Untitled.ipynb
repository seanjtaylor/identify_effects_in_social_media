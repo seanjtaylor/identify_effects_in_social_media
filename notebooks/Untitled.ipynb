{
 "cells": [
  {
   "cell_type": "code",
   "execution_count": null,
   "id": "80346efd-7712-42c8-886e-53f4f1c08e40",
   "metadata": {},
   "outputs": [],
   "source": [
    "library(tidyverse)\n",
    "for (the_lag in c(3, 7, 14, 28)) {\n",
    "    cat('Using the_lag={the_lag}' %>% glue::glue())\n",
    "    }"
   ]
  },
  {
   "cell_type": "code",
   "execution_count": null,
   "id": "71287153-10e0-433a-8c25-7a41ab4dc253",
   "metadata": {},
   "outputs": [],
   "source": []
  }
 ],
 "metadata": {
  "kernelspec": {
   "display_name": "R",
   "language": "R",
   "name": "ir"
  },
  "language_info": {
   "codemirror_mode": "r",
   "file_extension": ".r",
   "mimetype": "text/x-r-source",
   "name": "R",
   "pygments_lexer": "r",
   "version": "4.1.2"
  }
 },
 "nbformat": 4,
 "nbformat_minor": 5
}
