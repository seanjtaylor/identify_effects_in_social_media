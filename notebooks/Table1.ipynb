{
 "cells": [
  {
   "cell_type": "markdown",
   "id": "ff597fa8-f8a6-48b8-9fc7-9dbdba8c9e20",
   "metadata": {},
   "source": [
    "# Table 1: Fixed effect regressions"
   ]
  },
  {
   "cell_type": "code",
   "execution_count": 1,
   "id": "4f7fb9a5-0e98-4ec9-b46c-a07be9dd2526",
   "metadata": {},
   "outputs": [
    {
     "name": "stderr",
     "output_type": "stream",
     "text": [
      "\n",
      "Attaching package: ‘dplyr’\n",
      "\n",
      "\n",
      "The following objects are masked from ‘package:stats’:\n",
      "\n",
      "    filter, lag\n",
      "\n",
      "\n",
      "The following objects are masked from ‘package:base’:\n",
      "\n",
      "    intersect, setdiff, setequal, union\n",
      "\n",
      "\n",
      "Loading required package: Matrix\n",
      "\n",
      "\n",
      "Attaching package: ‘tidyr’\n",
      "\n",
      "\n",
      "The following objects are masked from ‘package:Matrix’:\n",
      "\n",
      "    expand, pack, unpack\n",
      "\n",
      "\n",
      "\n",
      "Attaching package: ‘lubridate’\n",
      "\n",
      "\n",
      "The following objects are masked from ‘package:base’:\n",
      "\n",
      "    date, intersect, setdiff, union\n",
      "\n",
      "\n",
      "\n",
      "Please cite as: \n",
      "\n",
      "\n",
      " Hlavac, Marek (2018). stargazer: Well-Formatted Regression and Summary Statistics Tables.\n",
      "\n",
      " R package version 5.2.2. https://CRAN.R-project.org/package=stargazer \n",
      "\n",
      "\n",
      "\n",
      "Attaching package: ‘lemon’\n",
      "\n",
      "\n",
      "The following objects are masked from ‘package:ggplot2’:\n",
      "\n",
      "    CoordCartesian, element_render\n",
      "\n",
      "\n"
     ]
    }
   ],
   "source": [
    "source('../scripts/load_libraries.R')\n",
    "source('../scripts/load_constants.R')"
   ]
  },
  {
   "cell_type": "code",
   "execution_count": 2,
   "id": "06751008-f2f1-410b-85e5-0bc5da1d09c9",
   "metadata": {},
   "outputs": [
    {
     "name": "stderr",
     "output_type": "stream",
     "text": [
      "\u001b[1mRows: \u001b[22m\u001b[34m17264341\u001b[39m \u001b[1mColumns: \u001b[22m\u001b[34m5\u001b[39m\n",
      "\u001b[36m──\u001b[39m \u001b[1mColumn specification\u001b[22m \u001b[36m───────────────────────────────────────────────────────────────────────────────────────────────────────────\u001b[39m\n",
      "\u001b[1mDelimiter:\u001b[22m \",\"\n",
      "\u001b[32mdbl\u001b[39m (5): comment_id, user_id, author_id, anonymous, first_view\n",
      "\n",
      "\u001b[36mℹ\u001b[39m Use `spec()` to retrieve the full column specification for this data.\n",
      "\u001b[36mℹ\u001b[39m Specify the column types or set `show_col_types = FALSE` to quiet this message.\n",
      "\u001b[1mRows: \u001b[22m\u001b[34m1281001\u001b[39m \u001b[1mColumns: \u001b[22m\u001b[34m4\u001b[39m\n",
      "\u001b[36m──\u001b[39m \u001b[1mColumn specification\u001b[22m \u001b[36m───────────────────────────────────────────────────────────────────────────────────────────────────────────\u001b[39m\n",
      "\u001b[1mDelimiter:\u001b[22m \",\"\n",
      "\u001b[32mdbl\u001b[39m (4): comment_id, user_id, score, time_stamp\n",
      "\n",
      "\u001b[36mℹ\u001b[39m Use `spec()` to retrieve the full column specification for this data.\n",
      "\u001b[36mℹ\u001b[39m Specify the column types or set `show_col_types = FALSE` to quiet this message.\n",
      "\u001b[1mRows: \u001b[22m\u001b[34m223737\u001b[39m \u001b[1mColumns: \u001b[22m\u001b[34m4\u001b[39m\n",
      "\u001b[36m──\u001b[39m \u001b[1mColumn specification\u001b[22m \u001b[36m───────────────────────────────────────────────────────────────────────────────────────────────────────────\u001b[39m\n",
      "\u001b[1mDelimiter:\u001b[22m \",\"\n",
      "\u001b[32mdbl\u001b[39m (4): comment_id, user_id, num, time_stamp\n",
      "\n",
      "\u001b[36mℹ\u001b[39m Use `spec()` to retrieve the full column specification for this data.\n",
      "\u001b[36mℹ\u001b[39m Specify the column types or set `show_col_types = FALSE` to quiet this message.\n",
      "\u001b[1m\u001b[22mJoining, by = c(\"comment_id\", \"user_id\")\n",
      "\u001b[1m\u001b[22mJoining, by = c(\"comment_id\", \"user_id\")\n",
      "\u001b[1m\u001b[22mJoining, by = \"user_id\"\n"
     ]
    }
   ],
   "source": [
    "source('../scripts/load_data.R')"
   ]
  },
  {
   "cell_type": "code",
   "execution_count": 3,
   "id": "f1705ddc-ea75-4aaf-ad08-77aac865249a",
   "metadata": {},
   "outputs": [
    {
     "name": "stderr",
     "output_type": "stream",
     "text": [
      "\u001b[1m\u001b[22m`summarise()` has grouped output by 'author_id'. You can override using the `.groups` argument.\n",
      "\u001b[1m\u001b[22mJoining, by = c(\"author_id\", \"ds\")\n",
      "\u001b[1m\u001b[22mJoining, by = c(\"author_id\", \"ds\")\n",
      "\u001b[1m\u001b[22mJoining, by = c(\"user_id\", \"author_id\", \"ds\")\n"
     ]
    }
   ],
   "source": [
    "source('../scripts/load_moderator_variables.R')"
   ]
  },
  {
   "cell_type": "code",
   "execution_count": 4,
   "id": "cc82b781-96d4-4c9f-9d71-0b9e8c6e75f9",
   "metadata": {},
   "outputs": [
    {
     "name": "stderr",
     "output_type": "stream",
     "text": [
      "NOTE: 40,406 observations removed because of NA values (RHS: 40,406).\n",
      "\n"
     ]
    },
    {
     "data": {
      "text/plain": [
       "GLM estimation, family = gaussian, Dep. Var.: I(100 * up)\n",
       "Observations: 12,583,408 \n",
       "Fixed-effects: user_id: 6,405,  author_id: 3,724\n",
       "Standard-errors: Clustered (user_id & author_id) \n",
       "                              Estimate Std. Error  t value   Pr(>|t|)    \n",
       "identified                    0.200233   0.089788  2.23006 0.02580299 *  \n",
       "scale(production)            -0.207237   0.057201 -3.62298 0.00029512 ***\n",
       "scale(reputation)             0.424474   0.047196  8.99385  < 2.2e-16 ***\n",
       "identified:scale(production)  0.126861   0.045782  2.77099 0.00561638 ** \n",
       "identified:scale(reputation)  0.163324   0.048515  3.36645 0.00076914 ***\n",
       "---\n",
       "Signif. codes:  0 '***' 0.001 '**' 0.01 '*' 0.05 '.' 0.1 ' ' 1\n",
       "Log-Likelihood: -55,196,073.8   Adj. Pseudo R2: 0.007901\n",
       "           BIC: 110,557,800.7     Squared Cor.: 0.068993"
      ]
     },
     "metadata": {},
     "output_type": "display_data"
    }
   ],
   "source": [
    "m1_up <- feglm(I(100 * up) ~ identified * (scale(production) + scale(reputation))| user_id + author_id, se = \"twoway\", \n",
    "           data = df_with_covariates,\n",
    "           family='gaussian')\n",
    "summary(m1_up)"
   ]
  },
  {
   "cell_type": "code",
   "execution_count": 5,
   "id": "d760eeeb-9a10-4d4a-bc80-f8fa801e34b1",
   "metadata": {},
   "outputs": [
    {
     "name": "stderr",
     "output_type": "stream",
     "text": [
      "NOTE: 40,406 observations removed because of NA values (RHS: 40,406).\n",
      "\n"
     ]
    },
    {
     "data": {
      "text/plain": [
       "GLM estimation, family = gaussian, Dep. Var.: I(100 * dn)\n",
       "Observations: 12,583,408 \n",
       "Fixed-effects: user_id: 6,405,  author_id: 3,724\n",
       "Standard-errors: Clustered (user_id & author_id) \n",
       "                              Estimate Std. Error  t value   Pr(>|t|)    \n",
       "identified                    0.055315   0.029117  1.89975 0.05754279 .  \n",
       "scale(production)             0.060175   0.028287  2.12727 0.03346287 *  \n",
       "scale(reputation)            -0.129350   0.035674 -3.62593 0.00029178 ***\n",
       "identified:scale(production)  0.064469   0.035105  1.83649 0.06636453 .  \n",
       "identified:scale(reputation) -0.199342   0.066438 -3.00041 0.00271403 ** \n",
       "---\n",
       "Signif. codes:  0 '***' 0.001 '**' 0.01 '*' 0.05 '.' 0.1 ' ' 1\n",
       "Log-Likelihood: -47,021,348.2   Adj. Pseudo R2: 0.005555\n",
       "           BIC:  94,208,349.6     Squared Cor.: 0.042441"
      ]
     },
     "metadata": {},
     "output_type": "display_data"
    }
   ],
   "source": [
    "m1_dn <- feglm(I(100 * dn) ~ identified * (scale(production) + scale(reputation))| user_id + author_id, se = \"twoway\", \n",
    "           data = df_with_covariates,\n",
    "           family='gaussian')\n",
    "summary(m1_dn)"
   ]
  },
  {
   "cell_type": "code",
   "execution_count": 6,
   "id": "a076a928-ee29-47ad-a5a2-acb7c1be9d0b",
   "metadata": {},
   "outputs": [
    {
     "name": "stderr",
     "output_type": "stream",
     "text": [
      "NOTE: 40,406 observations removed because of NA values (RHS: 40,406).\n",
      "\n"
     ]
    },
    {
     "data": {
      "text/plain": [
       "GLM estimation, family = gaussian, Dep. Var.: I(100 * rp)\n",
       "Observations: 12,583,408 \n",
       "Fixed-effects: user_id: 6,405,  author_id: 3,724\n",
       "Standard-errors: Clustered (user_id & author_id) \n",
       "                              Estimate Std. Error  t value   Pr(>|t|)    \n",
       "identified                    0.065644   0.013253  4.95334 7.6191e-07 ***\n",
       "scale(production)            -0.036269   0.012969 -2.79660 5.1908e-03 ** \n",
       "scale(reputation)            -0.035923   0.011734 -3.06136 2.2190e-03 ** \n",
       "identified:scale(production) -0.018513   0.008586 -2.15616 3.1135e-02 *  \n",
       "identified:scale(reputation)  0.011641   0.010109  1.15158 2.4957e-01    \n",
       "---\n",
       "Signif. codes:  0 '***' 0.001 '**' 0.01 '*' 0.05 '.' 0.1 ' ' 1\n",
       "Log-Likelihood: -46,173,613.9   Adj. Pseudo R2: 0.002947\n",
       "           BIC:  92,512,880.9     Squared Cor.: 0.023039"
      ]
     },
     "metadata": {},
     "output_type": "display_data"
    }
   ],
   "source": [
    "m1_rp <- feglm(I(100 * rp) ~ identified * (scale(production) + scale(reputation))| user_id + author_id, se = \"twoway\", \n",
    "           data = df_with_covariates,\n",
    "           family='gaussian')\n",
    "summary(m1_rp)"
   ]
  },
  {
   "cell_type": "code",
   "execution_count": 7,
   "id": "2bb0fe54-2110-4fa5-852a-e1a76340a468",
   "metadata": {},
   "outputs": [],
   "source": [
    "for_pairwise_model <- df_with_covariates %>%\n",
    "  mutate(ri = reciprocity * identified, \n",
    "         pair = paste(user_id, author_id, sep = '_')) %>%\n",
    "  filter(!is.na(reciprocity))"
   ]
  },
  {
   "cell_type": "code",
   "execution_count": 11,
   "id": "31269de3-d49b-44ba-bac4-6592d4b24f21",
   "metadata": {},
   "outputs": [
    {
     "data": {
      "text/plain": [
       "GLM estimation, family = gaussian, Dep. Var.: I(100 * up)\n",
       "Observations: 1,096,158 \n",
       "Fixed-effects: pair: 1,955\n",
       "Standard-errors: Clustered (pair) \n",
       "            Estimate Std. Error t value Pr(>|t|)    \n",
       "reciprocity  3.02432   1.318056 2.29453 0.021865 *  \n",
       "ri           2.49407   0.924564 2.69756 0.007045 ** \n",
       "---\n",
       "Signif. codes:  0 '***' 0.001 '**' 0.01 '*' 0.05 '.' 0.1 ' ' 1\n",
       "Log-Likelihood: -5,114,589.8   Adj. Pseudo R2: 0.013487\n",
       "           BIC: 10,256,396.3     Squared Cor.: 0.122953"
      ]
     },
     "metadata": {},
     "output_type": "display_data"
    }
   ],
   "source": [
    "m2_up <- feglm(I(100 * up) ~ reciprocity + ri | pair, se = \"cluster\", \n",
    "           data = for_pairwise_model, \n",
    "           family='gaussian')\n",
    "summary(m2_up)"
   ]
  },
  {
   "cell_type": "code",
   "execution_count": 9,
   "id": "cef76ff7-f356-408c-b6bd-d7cc37bb0a10",
   "metadata": {},
   "outputs": [
    {
     "data": {
      "text/plain": [
       "GLM estimation, family = gaussian, Dep. Var.: I(100 * dn)\n",
       "Observations: 1,096,158 \n",
       "Fixed-effects: pair: 1,955\n",
       "Standard-errors: Clustered (pair) \n",
       "             Estimate Std. Error  t value  Pr(>|t|)    \n",
       "reciprocity -0.930165   0.568656 -1.63573 0.1020582    \n",
       "ri          -1.184291   0.367903 -3.21903 0.0013074 ** \n",
       "---\n",
       "Signif. codes:  0 '***' 0.001 '**' 0.01 '*' 0.05 '.' 0.1 ' ' 1\n",
       "Log-Likelihood: -4,145,064.1   Adj. Pseudo R2: 0.012055\n",
       "           BIC:  8,317,346.6     Squared Cor.: 0.091439"
      ]
     },
     "metadata": {},
     "output_type": "display_data"
    }
   ],
   "source": [
    "m2_dn <- feglm(I(100 * dn) ~ reciprocity + ri | pair, se = \"cluster\", \n",
    "           data = for_pairwise_model, \n",
    "           family='gaussian')\n",
    "summary(m2_dn)"
   ]
  },
  {
   "cell_type": "code",
   "execution_count": 10,
   "id": "6dad7895-8691-4439-9469-705cf75b36e5",
   "metadata": {},
   "outputs": [
    {
     "data": {
      "text/plain": [
       "GLM estimation, family = gaussian, Dep. Var.: I(100 * rp)\n",
       "Observations: 1,096,158 \n",
       "Fixed-effects: pair: 1,955\n",
       "Standard-errors: Clustered (pair) \n",
       "             Estimate Std. Error   t value Pr(>|t|) \n",
       "reciprocity -0.505879   0.423871 -1.193473  0.23283 \n",
       "ri           0.302504   0.361528  0.836737  0.40284 \n",
       "---\n",
       "Signif. codes:  0 '***' 0.001 '**' 0.01 '*' 0.05 '.' 0.1 ' ' 1\n",
       "Log-Likelihood: -4,722,754.2   Adj. Pseudo R2: 0.003624\n",
       "           BIC:  9,472,724.1     Squared Cor.: 0.03432 "
      ]
     },
     "metadata": {},
     "output_type": "display_data"
    }
   ],
   "source": [
    "m2_rp <- feglm(I(100 * rp) ~ reciprocity + ri | pair, se = \"cluster\", \n",
    "           data = for_pairwise_model, \n",
    "           family='gaussian')\n",
    "summary(m2_rp)"
   ]
  }
 ],
 "metadata": {
  "kernelspec": {
   "display_name": "R",
   "language": "R",
   "name": "ir"
  },
  "language_info": {
   "codemirror_mode": "r",
   "file_extension": ".r",
   "mimetype": "text/x-r-source",
   "name": "R",
   "pygments_lexer": "r",
   "version": "4.1.2"
  }
 },
 "nbformat": 4,
 "nbformat_minor": 5
}
