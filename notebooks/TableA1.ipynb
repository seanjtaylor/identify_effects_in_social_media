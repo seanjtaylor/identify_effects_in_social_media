{
 "cells": [
  {
   "cell_type": "markdown",
   "id": "ff597fa8-f8a6-48b8-9fc7-9dbdba8c9e20",
   "metadata": {},
   "source": [
    "# Table 1: Fixed effect regressions with Logistic Link"
   ]
  },
  {
   "cell_type": "code",
   "execution_count": 1,
   "id": "4f7fb9a5-0e98-4ec9-b46c-a07be9dd2526",
   "metadata": {},
   "outputs": [
    {
     "name": "stderr",
     "output_type": "stream",
     "text": [
      "\n",
      "Attaching package: ‘dplyr’\n",
      "\n",
      "\n",
      "The following objects are masked from ‘package:stats’:\n",
      "\n",
      "    filter, lag\n",
      "\n",
      "\n",
      "The following objects are masked from ‘package:base’:\n",
      "\n",
      "    intersect, setdiff, setequal, union\n",
      "\n",
      "\n",
      "Loading required package: Matrix\n",
      "\n",
      "\n",
      "Attaching package: ‘tidyr’\n",
      "\n",
      "\n",
      "The following objects are masked from ‘package:Matrix’:\n",
      "\n",
      "    expand, pack, unpack\n",
      "\n",
      "\n",
      "\n",
      "Attaching package: ‘lubridate’\n",
      "\n",
      "\n",
      "The following objects are masked from ‘package:base’:\n",
      "\n",
      "    date, intersect, setdiff, union\n",
      "\n",
      "\n",
      "\n",
      "Please cite as: \n",
      "\n",
      "\n",
      " Hlavac, Marek (2018). stargazer: Well-Formatted Regression and Summary Statistics Tables.\n",
      "\n",
      " R package version 5.2.2. https://CRAN.R-project.org/package=stargazer \n",
      "\n",
      "\n",
      "\n",
      "Attaching package: ‘lemon’\n",
      "\n",
      "\n",
      "The following objects are masked from ‘package:ggplot2’:\n",
      "\n",
      "    CoordCartesian, element_render\n",
      "\n",
      "\n"
     ]
    }
   ],
   "source": [
    "source('../scripts/load_libraries.R')\n",
    "source('../scripts/load_constants.R')"
   ]
  },
  {
   "cell_type": "code",
   "execution_count": 2,
   "id": "06751008-f2f1-410b-85e5-0bc5da1d09c9",
   "metadata": {},
   "outputs": [
    {
     "name": "stderr",
     "output_type": "stream",
     "text": [
      "\u001b[1mRows: \u001b[22m\u001b[34m17264341\u001b[39m \u001b[1mColumns: \u001b[22m\u001b[34m5\u001b[39m\n",
      "\u001b[36m──\u001b[39m \u001b[1mColumn specification\u001b[22m \u001b[36m───────────────────────────────────────────────────────────────────────────────────────────────────────────\u001b[39m\n",
      "\u001b[1mDelimiter:\u001b[22m \",\"\n",
      "\u001b[32mdbl\u001b[39m (5): comment_id, user_id, author_id, anonymous, first_view\n",
      "\n",
      "\u001b[36mℹ\u001b[39m Use `spec()` to retrieve the full column specification for this data.\n",
      "\u001b[36mℹ\u001b[39m Specify the column types or set `show_col_types = FALSE` to quiet this message.\n",
      "\u001b[1mRows: \u001b[22m\u001b[34m1281001\u001b[39m \u001b[1mColumns: \u001b[22m\u001b[34m4\u001b[39m\n",
      "\u001b[36m──\u001b[39m \u001b[1mColumn specification\u001b[22m \u001b[36m───────────────────────────────────────────────────────────────────────────────────────────────────────────\u001b[39m\n",
      "\u001b[1mDelimiter:\u001b[22m \",\"\n",
      "\u001b[32mdbl\u001b[39m (4): comment_id, user_id, score, time_stamp\n",
      "\n",
      "\u001b[36mℹ\u001b[39m Use `spec()` to retrieve the full column specification for this data.\n",
      "\u001b[36mℹ\u001b[39m Specify the column types or set `show_col_types = FALSE` to quiet this message.\n",
      "\u001b[1mRows: \u001b[22m\u001b[34m223737\u001b[39m \u001b[1mColumns: \u001b[22m\u001b[34m4\u001b[39m\n",
      "\u001b[36m──\u001b[39m \u001b[1mColumn specification\u001b[22m \u001b[36m───────────────────────────────────────────────────────────────────────────────────────────────────────────\u001b[39m\n",
      "\u001b[1mDelimiter:\u001b[22m \",\"\n",
      "\u001b[32mdbl\u001b[39m (4): comment_id, user_id, num, time_stamp\n",
      "\n",
      "\u001b[36mℹ\u001b[39m Use `spec()` to retrieve the full column specification for this data.\n",
      "\u001b[36mℹ\u001b[39m Specify the column types or set `show_col_types = FALSE` to quiet this message.\n",
      "\u001b[1m\u001b[22mJoining, by = c(\"comment_id\", \"user_id\")\n",
      "\u001b[1m\u001b[22mJoining, by = c(\"comment_id\", \"user_id\")\n",
      "\u001b[1m\u001b[22mJoining, by = \"user_id\"\n"
     ]
    }
   ],
   "source": [
    "source('../scripts/load_data.R')"
   ]
  },
  {
   "cell_type": "code",
   "execution_count": 3,
   "id": "f1705ddc-ea75-4aaf-ad08-77aac865249a",
   "metadata": {},
   "outputs": [
    {
     "name": "stderr",
     "output_type": "stream",
     "text": [
      "\u001b[1m\u001b[22m`summarise()` has grouped output by 'author_id'. You can override using the `.groups` argument.\n",
      "\u001b[1m\u001b[22mJoining, by = c(\"author_id\", \"ds\")\n",
      "\u001b[1m\u001b[22mJoining, by = c(\"author_id\", \"ds\")\n",
      "\u001b[1m\u001b[22mJoining, by = c(\"user_id\", \"author_id\", \"ds\")\n"
     ]
    }
   ],
   "source": [
    "source('../scripts/load_moderator_variables.R')"
   ]
  },
  {
   "cell_type": "code",
   "execution_count": 5,
   "id": "cc82b781-96d4-4c9f-9d71-0b9e8c6e75f9",
   "metadata": {},
   "outputs": [
    {
     "name": "stderr",
     "output_type": "stream",
     "text": [
      "NOTES: 40,406 observations removed because of NA values (RHS: 40,406).\n",
      "       5,166/1,556 fixed-effects (901,996 observations) removed because of only 0 (or only 1) outcomes.\n",
      "\n"
     ]
    },
    {
     "data": {
      "text/plain": [
       "GLM estimation, family = binomial, Dep. Var.: up\n",
       "Observations: 11,681,412 \n",
       "Fixed-effects: user_id: 1,239,  author_id: 2,168\n",
       "Standard-errors: Clustered (user_id & author_id) \n",
       "                              Estimate Std. Error  t value   Pr(>|t|)    \n",
       "identified                    0.050406   0.022983  2.19319 2.8293e-02 *  \n",
       "scale(production)            -0.065315   0.015535 -4.20445 2.6172e-05 ***\n",
       "scale(reputation)             0.109676   0.010290 10.65855  < 2.2e-16 ***\n",
       "identified:scale(production)  0.039307   0.012967  3.03138 2.4344e-03 ** \n",
       "identified:scale(reputation)  0.032196   0.009339  3.44764 5.6550e-04 ***\n",
       "---\n",
       "Signif. codes:  0 '***' 0.001 '**' 0.01 '*' 0.05 '.' 0.1 ' ' 1\n",
       "Log-Likelihood: -1,845,700.2   Adj. Pseudo R2: 0.147021\n",
       "           BIC:  3,746,909.4     Squared Cor.: 0.069893"
      ]
     },
     "metadata": {},
     "output_type": "display_data"
    }
   ],
   "source": [
    "m1_up <- feglm(up ~ identified * (scale(production) + scale(reputation))| user_id + author_id, se = \"twoway\", \n",
    "           data = df_with_covariates,\n",
    "           family='binomial')\n",
    "summary(m1_up)"
   ]
  },
  {
   "cell_type": "code",
   "execution_count": 6,
   "id": "d760eeeb-9a10-4d4a-bc80-f8fa801e34b1",
   "metadata": {},
   "outputs": [
    {
     "name": "stderr",
     "output_type": "stream",
     "text": [
      "NOTES: 40,406 observations removed because of NA values (RHS: 40,406).\n",
      "       5,350/1,690 fixed-effects (1,368,961 observations) removed because of only 0 (or only 1) outcomes.\n",
      "\n"
     ]
    },
    {
     "data": {
      "text/plain": [
       "GLM estimation, family = binomial, Dep. Var.: dn\n",
       "Observations: 11,214,447 \n",
       "Fixed-effects: user_id: 1,055,  author_id: 2,034\n",
       "Standard-errors: Clustered (user_id & author_id) \n",
       "                              Estimate Std. Error   t value   Pr(>|t|)    \n",
       "identified                    0.005981   0.025611  0.233530 8.1535e-01    \n",
       "scale(production)             0.012946   0.019047  0.679701 4.9669e-01    \n",
       "scale(reputation)            -0.148000   0.024242 -6.105039 1.0278e-09 ***\n",
       "identified:scale(production)  0.038842   0.018507  2.098706 3.5843e-02 *  \n",
       "identified:scale(reputation) -0.086892   0.023870 -3.640295 2.7233e-04 ***\n",
       "---\n",
       "Signif. codes:  0 '***' 0.001 '**' 0.01 '*' 0.05 '.' 0.1 ' ' 1\n",
       "Log-Likelihood:  -594,317.1   Adj. Pseudo R2: 0.192069\n",
       "           BIC: 1,238,841.9     Squared Cor.: 0.050623"
      ]
     },
     "metadata": {},
     "output_type": "display_data"
    }
   ],
   "source": [
    "m1_dn <- feglm(dn ~ identified * (scale(production) + scale(reputation))| user_id + author_id, se = \"twoway\", \n",
    "           data = df_with_covariates,\n",
    "           family='binomial')\n",
    "summary(m1_dn)"
   ]
  },
  {
   "cell_type": "code",
   "execution_count": 7,
   "id": "a076a928-ee29-47ad-a5a2-acb7c1be9d0b",
   "metadata": {},
   "outputs": [
    {
     "name": "stderr",
     "output_type": "stream",
     "text": [
      "NOTES: 40,406 observations removed because of NA values (RHS: 40,406).\n",
      "       4,677/2,030 fixed-effects (1,306,691 observations) removed because of only 0 (or only 1) outcomes.\n",
      "\n"
     ]
    },
    {
     "data": {
      "text/plain": [
       "GLM estimation, family = binomial, Dep. Var.: rp\n",
       "Observations: 11,276,717 \n",
       "Fixed-effects: user_id: 1,728,  author_id: 1,694\n",
       "Standard-errors: Clustered (user_id & author_id) \n",
       "                              Estimate Std. Error  t value   Pr(>|t|)    \n",
       "identified                    0.078110   0.015073  5.18222 2.1927e-07 ***\n",
       "scale(production)            -0.031591   0.013305 -2.37441 1.7577e-02 *  \n",
       "scale(reputation)            -0.055655   0.017439 -3.19143 1.4157e-03 ** \n",
       "identified:scale(production) -0.023595   0.009337 -2.52709 1.1501e-02 *  \n",
       "identified:scale(reputation)  0.023048   0.014218  1.62107 1.0500e-01    \n",
       "---\n",
       "Signif. codes:  0 '***' 0.001 '**' 0.01 '*' 0.05 '.' 0.1 ' ' 1\n",
       "Log-Likelihood:  -557,195.9   Adj. Pseudo R2: 0.139432\n",
       "           BIC: 1,170,023.1     Squared Cor.: 0.023439"
      ]
     },
     "metadata": {},
     "output_type": "display_data"
    }
   ],
   "source": [
    "m1_rp <- feglm(rp ~ identified * (scale(production) + scale(reputation))| user_id + author_id, se = \"twoway\", \n",
    "           data = df_with_covariates,\n",
    "           family='binomial')\n",
    "summary(m1_rp)"
   ]
  },
  {
   "cell_type": "code",
   "execution_count": 8,
   "id": "2bb0fe54-2110-4fa5-852a-e1a76340a468",
   "metadata": {},
   "outputs": [],
   "source": [
    "for_pairwise_model <- df_with_covariates %>%\n",
    "  mutate(ri = reciprocity * identified, \n",
    "         pair = paste(user_id, author_id, sep = '_')) %>%\n",
    "  filter(!is.na(reciprocity))"
   ]
  },
  {
   "cell_type": "code",
   "execution_count": 9,
   "id": "31269de3-d49b-44ba-bac4-6592d4b24f21",
   "metadata": {},
   "outputs": [
    {
     "name": "stderr",
     "output_type": "stream",
     "text": [
      "NOTE: 237 fixed-effects (12,038 observations) removed because of only 0 (or only 1) outcomes.\n",
      "\n"
     ]
    },
    {
     "data": {
      "text/plain": [
       "GLM estimation, family = binomial, Dep. Var.: up\n",
       "Observations: 1,084,120 \n",
       "Fixed-effects: pair: 1,718\n",
       "Standard-errors: Clustered (pair) \n",
       "            Estimate Std. Error t value  Pr(>|t|)    \n",
       "reciprocity 0.471516   0.167621 2.81300 0.0049082 ** \n",
       "ri          0.290068   0.113527 2.55506 0.0106170 *  \n",
       "---\n",
       "Signif. codes:  0 '***' 0.001 '**' 0.01 '*' 0.05 '.' 0.1 ' ' 1\n",
       "Log-Likelihood: -258,447.4   Adj. Pseudo R2: 0.161277\n",
       "           BIC:  540,796.4     Squared Cor.: 0.122858"
      ]
     },
     "metadata": {},
     "output_type": "display_data"
    }
   ],
   "source": [
    "m2_up <- feglm(up ~ reciprocity + ri | pair, se = \"cluster\", \n",
    "           data = for_pairwise_model, \n",
    "           family='binomial')\n",
    "summary(m2_up)"
   ]
  },
  {
   "cell_type": "code",
   "execution_count": 10,
   "id": "cef76ff7-f356-408c-b6bd-d7cc37bb0a10",
   "metadata": {},
   "outputs": [
    {
     "name": "stderr",
     "output_type": "stream",
     "text": [
      "NOTE: 1,044 fixed-effects (360,516 observations) removed because of only 0 (or only 1) outcomes.\n",
      "\n"
     ]
    },
    {
     "data": {
      "text/plain": [
       "GLM estimation, family = binomial, Dep. Var.: dn\n",
       "Observations: 735,642 \n",
       "Fixed-effects: pair: 911\n",
       "Standard-errors: Clustered (pair) \n",
       "             Estimate Std. Error   t value   Pr(>|t|)    \n",
       "reciprocity -0.399297   0.457156 -0.873437 0.38242510    \n",
       "ri          -1.102031   0.325932 -3.381165 0.00072179 ***\n",
       "---\n",
       "Signif. codes:  0 '***' 0.001 '**' 0.01 '*' 0.05 '.' 0.1 ' ' 1\n",
       "Log-Likelihood: -51,769.4   Adj. Pseudo R2: 0.230217\n",
       "           BIC: 115,871.1     Squared Cor.: 0.091807"
      ]
     },
     "metadata": {},
     "output_type": "display_data"
    }
   ],
   "source": [
    "m2_dn <- feglm(dn ~ reciprocity + ri | pair, se = \"cluster\", \n",
    "           data = for_pairwise_model, \n",
    "           family='binomial')\n",
    "summary(m2_dn)"
   ]
  },
  {
   "cell_type": "code",
   "execution_count": 11,
   "id": "6dad7895-8691-4439-9469-705cf75b36e5",
   "metadata": {},
   "outputs": [
    {
     "name": "stderr",
     "output_type": "stream",
     "text": [
      "NOTE: 369 fixed-effects (14,555 observations) removed because of only 0 (or only 1) outcomes.\n",
      "\n"
     ]
    },
    {
     "data": {
      "text/plain": [
       "GLM estimation, family = binomial, Dep. Var.: rp\n",
       "Observations: 1,081,603 \n",
       "Fixed-effects: pair: 1,586\n",
       "Standard-errors: Clustered (pair) \n",
       "             Estimate Std. Error   t value Pr(>|t|) \n",
       "reciprocity -0.152600   0.130284 -1.171289  0.24148 \n",
       "ri           0.093022   0.112686  0.825498  0.40909 \n",
       "---\n",
       "Signif. codes:  0 '***' 0.001 '**' 0.01 '*' 0.05 '.' 0.1 ' ' 1\n",
       "Log-Likelihood: -151,231.7   Adj. Pseudo R2: 0.072014\n",
       "           BIC:  324,526.9     Squared Cor.: 0.033814"
      ]
     },
     "metadata": {},
     "output_type": "display_data"
    }
   ],
   "source": [
    "m2_rp <- feglm(rp ~ reciprocity + ri | pair, se = \"cluster\", \n",
    "           data = for_pairwise_model, \n",
    "           family='binomial')\n",
    "summary(m2_rp)"
   ]
  }
 ],
 "metadata": {
  "kernelspec": {
   "display_name": "R",
   "language": "R",
   "name": "ir"
  },
  "language_info": {
   "codemirror_mode": "r",
   "file_extension": ".r",
   "mimetype": "text/x-r-source",
   "name": "R",
   "pygments_lexer": "r",
   "version": "4.1.2"
  }
 },
 "nbformat": 4,
 "nbformat_minor": 5
}
