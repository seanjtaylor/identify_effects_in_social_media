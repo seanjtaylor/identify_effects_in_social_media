{
 "cells": [
  {
   "cell_type": "markdown",
   "id": "c504c3ac-db72-4b7c-b9ed-5cbc0d5a1086",
   "metadata": {},
   "source": [
    "# Table A2: Robustness to Outliers"
   ]
  },
  {
   "cell_type": "code",
   "execution_count": 1,
   "id": "ffd8791b-91b5-44ff-8f2e-a0d0b613ee60",
   "metadata": {},
   "outputs": [
    {
     "name": "stderr",
     "output_type": "stream",
     "text": [
      "\n",
      "Attaching package: ‘dplyr’\n",
      "\n",
      "\n",
      "The following objects are masked from ‘package:stats’:\n",
      "\n",
      "    filter, lag\n",
      "\n",
      "\n",
      "The following objects are masked from ‘package:base’:\n",
      "\n",
      "    intersect, setdiff, setequal, union\n",
      "\n",
      "\n",
      "Loading required package: Matrix\n",
      "\n",
      "\n",
      "Attaching package: ‘tidyr’\n",
      "\n",
      "\n",
      "The following objects are masked from ‘package:Matrix’:\n",
      "\n",
      "    expand, pack, unpack\n",
      "\n",
      "\n",
      "\n",
      "Attaching package: ‘lubridate’\n",
      "\n",
      "\n",
      "The following objects are masked from ‘package:base’:\n",
      "\n",
      "    date, intersect, setdiff, union\n",
      "\n",
      "\n",
      "\n",
      "Please cite as: \n",
      "\n",
      "\n",
      " Hlavac, Marek (2018). stargazer: Well-Formatted Regression and Summary Statistics Tables.\n",
      "\n",
      " R package version 5.2.2. https://CRAN.R-project.org/package=stargazer \n",
      "\n",
      "\n",
      "\n",
      "Attaching package: ‘lemon’\n",
      "\n",
      "\n",
      "The following objects are masked from ‘package:ggplot2’:\n",
      "\n",
      "    CoordCartesian, element_render\n",
      "\n",
      "\n"
     ]
    }
   ],
   "source": [
    "source('../scripts/load_libraries.R')\n",
    "source('../scripts/load_constants.R')"
   ]
  },
  {
   "cell_type": "code",
   "execution_count": 2,
   "id": "c5bf202d-ac4d-42d9-b91b-159a43ecd6c0",
   "metadata": {},
   "outputs": [
    {
     "name": "stderr",
     "output_type": "stream",
     "text": [
      "\u001b[1mRows: \u001b[22m\u001b[34m17264341\u001b[39m \u001b[1mColumns: \u001b[22m\u001b[34m5\u001b[39m\n",
      "\u001b[36m──\u001b[39m \u001b[1mColumn specification\u001b[22m \u001b[36m───────────────────────────────────────────────────────────────────────────────────────────────────────────\u001b[39m\n",
      "\u001b[1mDelimiter:\u001b[22m \",\"\n",
      "\u001b[32mdbl\u001b[39m (5): comment_id, user_id, author_id, anonymous, first_view\n",
      "\n",
      "\u001b[36mℹ\u001b[39m Use `spec()` to retrieve the full column specification for this data.\n",
      "\u001b[36mℹ\u001b[39m Specify the column types or set `show_col_types = FALSE` to quiet this message.\n",
      "\u001b[1mRows: \u001b[22m\u001b[34m1281001\u001b[39m \u001b[1mColumns: \u001b[22m\u001b[34m4\u001b[39m\n",
      "\u001b[36m──\u001b[39m \u001b[1mColumn specification\u001b[22m \u001b[36m───────────────────────────────────────────────────────────────────────────────────────────────────────────\u001b[39m\n",
      "\u001b[1mDelimiter:\u001b[22m \",\"\n",
      "\u001b[32mdbl\u001b[39m (4): comment_id, user_id, score, time_stamp\n",
      "\n",
      "\u001b[36mℹ\u001b[39m Use `spec()` to retrieve the full column specification for this data.\n",
      "\u001b[36mℹ\u001b[39m Specify the column types or set `show_col_types = FALSE` to quiet this message.\n",
      "\u001b[1mRows: \u001b[22m\u001b[34m223737\u001b[39m \u001b[1mColumns: \u001b[22m\u001b[34m4\u001b[39m\n",
      "\u001b[36m──\u001b[39m \u001b[1mColumn specification\u001b[22m \u001b[36m───────────────────────────────────────────────────────────────────────────────────────────────────────────\u001b[39m\n",
      "\u001b[1mDelimiter:\u001b[22m \",\"\n",
      "\u001b[32mdbl\u001b[39m (4): comment_id, user_id, num, time_stamp\n",
      "\n",
      "\u001b[36mℹ\u001b[39m Use `spec()` to retrieve the full column specification for this data.\n",
      "\u001b[36mℹ\u001b[39m Specify the column types or set `show_col_types = FALSE` to quiet this message.\n",
      "\u001b[1m\u001b[22mJoining, by = c(\"comment_id\", \"user_id\")\n",
      "\u001b[1m\u001b[22mJoining, by = c(\"comment_id\", \"user_id\")\n",
      "\u001b[1m\u001b[22mJoining, by = \"user_id\"\n"
     ]
    }
   ],
   "source": [
    "source('../scripts/load_data.R')"
   ]
  },
  {
   "cell_type": "code",
   "execution_count": 3,
   "id": "5cfb0ddc-ed93-4209-b85c-eb9a639b1b4f",
   "metadata": {},
   "outputs": [],
   "source": [
    "by_comment <- df %>%\n",
    "  group_by(comment_id) %>%\n",
    "  summarise(exp_per_comment = n()) %>%\n",
    "  ungroup()"
   ]
  },
  {
   "cell_type": "code",
   "execution_count": 4,
   "id": "3080323e-0473-4b34-8969-96db59013bb4",
   "metadata": {},
   "outputs": [
    {
     "data": {
      "text/html": [
       "<strong>99.9%:</strong> 210"
      ],
      "text/latex": [
       "\\textbf{99.9\\textbackslash{}\\%:} 210"
      ],
      "text/markdown": [
       "**99.9%:** 210"
      ],
      "text/plain": [
       "99.9% \n",
       "  210 "
      ]
     },
     "metadata": {},
     "output_type": "display_data"
    }
   ],
   "source": [
    "df_clean %>%\n",
    "  group_by(comment_id) %>%\n",
    "  count() %>%\n",
    "  pull(n) %>%\n",
    "  quantile(0.999)"
   ]
  },
  {
   "cell_type": "code",
   "execution_count": 5,
   "id": "6548464e-4fb2-43f0-bfd0-ace4a61380c7",
   "metadata": {},
   "outputs": [
    {
     "name": "stderr",
     "output_type": "stream",
     "text": [
      "\u001b[1m\u001b[22mJoining, by = \"comment_id\"\n"
     ]
    }
   ],
   "source": [
    "df_clean_no_outliers <- df_clean %>% \n",
    "  inner_join(by_comment) %>% \n",
    "  filter(exp_per_comment <= 210)"
   ]
  },
  {
   "cell_type": "code",
   "execution_count": 6,
   "id": "59067f48-e1e0-4819-9675-95971bd73147",
   "metadata": {},
   "outputs": [
    {
     "data": {
      "text/plain": [
       "GLM estimation, family = gaussian, Dep. Var.: I(100 * up)\n",
       "Observations: 12,623,814 \n",
       "Fixed-effects: user_id: 6,415,  author_id: 3,725\n",
       "Standard-errors: Clustered (user_id & author_id) \n",
       "           Estimate Std. Error t value Pr(>|t|)    \n",
       "identified 0.196425   0.090721 2.16516 0.030439 *  \n",
       "---\n",
       "Signif. codes:  0 '***' 0.001 '**' 0.01 '*' 0.05 '.' 0.1 ' ' 1\n",
       "Log-Likelihood: -55,377,547.6   Adj. Pseudo R2: 0.007822\n",
       "           BIC: 110,920,895.4     Squared Cor.: 0.068337"
      ]
     },
     "metadata": {},
     "output_type": "display_data"
    }
   ],
   "source": [
    "m1_up <- feglm(I(100 * up) ~ identified | user_id + author_id, se = \"twoway\", \n",
    "               data = df_clean, \n",
    "               family='gaussian')\n",
    "summary(m1_up)"
   ]
  },
  {
   "cell_type": "code",
   "execution_count": 7,
   "id": "7751c9e7-b6a6-4284-9730-524afa0ef781",
   "metadata": {},
   "outputs": [
    {
     "data": {
      "text/plain": [
       "GLM estimation, family = gaussian, Dep. Var.: I(100 * up)\n",
       "Observations: 12,251,310 \n",
       "Fixed-effects: user_id: 6,401,  author_id: 3,720\n",
       "Standard-errors: Clustered (user_id & author_id) \n",
       "           Estimate Std. Error t value Pr(>|t|)    \n",
       "identified 0.192825   0.089375 2.15747 0.031033 *  \n",
       "---\n",
       "Signif. codes:  0 '***' 0.001 '**' 0.01 '*' 0.05 '.' 0.1 ' ' 1\n",
       "Log-Likelihood: -53,695,360.2   Adj. Pseudo R2: 0.007728\n",
       "           BIC: 107,555,906.8     Squared Cor.: 0.06754 "
      ]
     },
     "metadata": {},
     "output_type": "display_data"
    }
   ],
   "source": [
    "m2_up <- feglm(I(100 * up) ~ identified | user_id + author_id, se = \"twoway\", \n",
    "               data = df_clean_no_outliers,\n",
    "               family='gaussian')\n",
    "summary(m2_up)"
   ]
  },
  {
   "cell_type": "code",
   "execution_count": 8,
   "id": "f084d99f-b54b-45a9-8652-a97c1098b411",
   "metadata": {},
   "outputs": [
    {
     "data": {
      "text/plain": [
       "GLM estimation, family = gaussian, Dep. Var.: I(100 * dn)\n",
       "Observations: 12,623,814 \n",
       "Fixed-effects: user_id: 6,415,  author_id: 3,725\n",
       "Standard-errors: Clustered (user_id & author_id) \n",
       "           Estimate Std. Error t value Pr(>|t|) \n",
       "identified 0.053484   0.034526 1.54908  0.12145 \n",
       "---\n",
       "Signif. codes:  0 '***' 0.001 '**' 0.01 '*' 0.05 '.' 0.1 ' ' 1\n",
       "Log-Likelihood: -47,168,532.9   Adj. Pseudo R2: 0.005445\n",
       "           BIC:  94,502,865.9     Squared Cor.: 0.041639"
      ]
     },
     "metadata": {},
     "output_type": "display_data"
    }
   ],
   "source": [
    "m1_dn <- feglm(I(100 * dn) ~ identified | user_id + author_id, se = \"twoway\", \n",
    "               data = df_clean, \n",
    "               family='gaussian')\n",
    "summary(m1_dn)"
   ]
  },
  {
   "cell_type": "code",
   "execution_count": 9,
   "id": "ddf093e9-3cb2-4de1-b432-dd535c3ff3aa",
   "metadata": {},
   "outputs": [
    {
     "data": {
      "text/plain": [
       "GLM estimation, family = gaussian, Dep. Var.: I(100 * dn)\n",
       "Observations: 12,251,310 \n",
       "Fixed-effects: user_id: 6,401,  author_id: 3,720\n",
       "Standard-errors: Clustered (user_id & author_id) \n",
       "           Estimate Std. Error t value Pr(>|t|) \n",
       "identified 0.056221   0.034613 1.62427   0.1044 \n",
       "---\n",
       "Signif. codes:  0 '***' 0.001 '**' 0.01 '*' 0.05 '.' 0.1 ' ' 1\n",
       "Log-Likelihood: -45,854,819.6   Adj. Pseudo R2: 0.005496\n",
       "           BIC:  91,874,825.5     Squared Cor.: 0.042117"
      ]
     },
     "metadata": {},
     "output_type": "display_data"
    }
   ],
   "source": [
    "m2_dn <- feglm(I(100 * dn) ~ identified | user_id + author_id, se = \"twoway\", \n",
    "               data = df_clean_no_outliers,\n",
    "               family='gaussian')\n",
    "summary(m2_dn)"
   ]
  },
  {
   "cell_type": "code",
   "execution_count": 10,
   "id": "a0eb7d14-11ec-482f-bbf4-8623a0519ebe",
   "metadata": {},
   "outputs": [
    {
     "data": {
      "text/plain": [
       "GLM estimation, family = gaussian, Dep. Var.: I(100 * rp)\n",
       "Observations: 12,623,814 \n",
       "Fixed-effects: user_id: 6,415,  author_id: 3,725\n",
       "Standard-errors: Clustered (user_id & author_id) \n",
       "           Estimate Std. Error t value   Pr(>|t|)    \n",
       "identified 0.066172   0.013322   4.967 7.1051e-07 ***\n",
       "---\n",
       "Signif. codes:  0 '***' 0.001 '**' 0.01 '*' 0.05 '.' 0.1 ' ' 1\n",
       "Log-Likelihood: -46,314,780.1   Adj. Pseudo R2: 0.002946\n",
       "           BIC:  92,795,362.0     Squared Cor.: 0.023024"
      ]
     },
     "metadata": {},
     "output_type": "display_data"
    }
   ],
   "source": [
    "m1_rp <- feglm(I(100 * rp) ~ identified | user_id + author_id, se = \"twoway\", \n",
    "               data = df_clean, \n",
    "               family='gaussian')\n",
    "summary(m1_rp)"
   ]
  },
  {
   "cell_type": "code",
   "execution_count": 11,
   "id": "f4fc219e-0115-42e4-a698-67dee5d95ecd",
   "metadata": {},
   "outputs": [
    {
     "data": {
      "text/plain": [
       "GLM estimation, family = gaussian, Dep. Var.: I(100 * rp)\n",
       "Observations: 12,251,310 \n",
       "Fixed-effects: user_id: 6,401,  author_id: 3,720\n",
       "Standard-errors: Clustered (user_id & author_id) \n",
       "           Estimate Std. Error t value   Pr(>|t|)    \n",
       "identified 0.065296   0.013703 4.76512 1.9596e-06 ***\n",
       "---\n",
       "Signif. codes:  0 '***' 0.001 '**' 0.01 '*' 0.05 '.' 0.1 ' ' 1\n",
       "Log-Likelihood: -45,070,888.8   Adj. Pseudo R2: 0.002962\n",
       "           BIC:  90,306,963.9     Squared Cor.: 0.023243"
      ]
     },
     "metadata": {},
     "output_type": "display_data"
    }
   ],
   "source": [
    "m2_rp <- feglm(I(100 * rp) ~ identified | user_id + author_id, se = \"twoway\", \n",
    "               data = df_clean_no_outliers,\n",
    "               family='gaussian')\n",
    "summary(m2_rp)"
   ]
  }
 ],
 "metadata": {
  "kernelspec": {
   "display_name": "R",
   "language": "R",
   "name": "ir"
  },
  "language_info": {
   "codemirror_mode": "r",
   "file_extension": ".r",
   "mimetype": "text/x-r-source",
   "name": "R",
   "pygments_lexer": "r",
   "version": "4.1.2"
  }
 },
 "nbformat": 4,
 "nbformat_minor": 5
}
