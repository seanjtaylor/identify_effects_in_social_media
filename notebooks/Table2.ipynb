{
 "cells": [
  {
   "cell_type": "markdown",
   "id": "8755a3b1-3f2b-4f62-9abb-16a7e526a7ae",
   "metadata": {},
   "source": [
    "# Table 2: Summary statistics"
   ]
  },
  {
   "cell_type": "code",
   "execution_count": 1,
   "id": "871c4035-9fa5-4421-9783-86f3c905aafd",
   "metadata": {},
   "outputs": [
    {
     "name": "stderr",
     "output_type": "stream",
     "text": [
      "\n",
      "Attaching package: ‘dplyr’\n",
      "\n",
      "\n",
      "The following objects are masked from ‘package:stats’:\n",
      "\n",
      "    filter, lag\n",
      "\n",
      "\n",
      "The following objects are masked from ‘package:base’:\n",
      "\n",
      "    intersect, setdiff, setequal, union\n",
      "\n",
      "\n",
      "Loading required package: Matrix\n",
      "\n",
      "\n",
      "Attaching package: ‘tidyr’\n",
      "\n",
      "\n",
      "The following objects are masked from ‘package:Matrix’:\n",
      "\n",
      "    expand, pack, unpack\n",
      "\n",
      "\n",
      "\n",
      "Attaching package: ‘lubridate’\n",
      "\n",
      "\n",
      "The following objects are masked from ‘package:base’:\n",
      "\n",
      "    date, intersect, setdiff, union\n",
      "\n",
      "\n",
      "\n",
      "Please cite as: \n",
      "\n",
      "\n",
      " Hlavac, Marek (2018). stargazer: Well-Formatted Regression and Summary Statistics Tables.\n",
      "\n",
      " R package version 5.2.2. https://CRAN.R-project.org/package=stargazer \n",
      "\n",
      "\n",
      "\n",
      "Attaching package: ‘lemon’\n",
      "\n",
      "\n",
      "The following objects are masked from ‘package:ggplot2’:\n",
      "\n",
      "    CoordCartesian, element_render\n",
      "\n",
      "\n"
     ]
    }
   ],
   "source": [
    "source('../scripts/load_libraries.R')\n",
    "source('../scripts/load_constants.R')"
   ]
  },
  {
   "cell_type": "code",
   "execution_count": 2,
   "id": "2c0a65aa-c712-4661-a92b-2742b378c60a",
   "metadata": {},
   "outputs": [
    {
     "name": "stderr",
     "output_type": "stream",
     "text": [
      "\u001b[1mRows: \u001b[22m\u001b[34m17264341\u001b[39m \u001b[1mColumns: \u001b[22m\u001b[34m5\u001b[39m\n",
      "\u001b[36m──\u001b[39m \u001b[1mColumn specification\u001b[22m \u001b[36m───────────────────────────────────────────────────────────────────────────────────────────────────────────\u001b[39m\n",
      "\u001b[1mDelimiter:\u001b[22m \",\"\n",
      "\u001b[32mdbl\u001b[39m (5): comment_id, user_id, author_id, anonymous, first_view\n",
      "\n",
      "\u001b[36mℹ\u001b[39m Use `spec()` to retrieve the full column specification for this data.\n",
      "\u001b[36mℹ\u001b[39m Specify the column types or set `show_col_types = FALSE` to quiet this message.\n",
      "\u001b[1mRows: \u001b[22m\u001b[34m1281001\u001b[39m \u001b[1mColumns: \u001b[22m\u001b[34m4\u001b[39m\n",
      "\u001b[36m──\u001b[39m \u001b[1mColumn specification\u001b[22m \u001b[36m───────────────────────────────────────────────────────────────────────────────────────────────────────────\u001b[39m\n",
      "\u001b[1mDelimiter:\u001b[22m \",\"\n",
      "\u001b[32mdbl\u001b[39m (4): comment_id, user_id, score, time_stamp\n",
      "\n",
      "\u001b[36mℹ\u001b[39m Use `spec()` to retrieve the full column specification for this data.\n",
      "\u001b[36mℹ\u001b[39m Specify the column types or set `show_col_types = FALSE` to quiet this message.\n",
      "\u001b[1mRows: \u001b[22m\u001b[34m223737\u001b[39m \u001b[1mColumns: \u001b[22m\u001b[34m4\u001b[39m\n",
      "\u001b[36m──\u001b[39m \u001b[1mColumn specification\u001b[22m \u001b[36m───────────────────────────────────────────────────────────────────────────────────────────────────────────\u001b[39m\n",
      "\u001b[1mDelimiter:\u001b[22m \",\"\n",
      "\u001b[32mdbl\u001b[39m (4): comment_id, user_id, num, time_stamp\n",
      "\n",
      "\u001b[36mℹ\u001b[39m Use `spec()` to retrieve the full column specification for this data.\n",
      "\u001b[36mℹ\u001b[39m Specify the column types or set `show_col_types = FALSE` to quiet this message.\n",
      "\u001b[1m\u001b[22mJoining, by = c(\"comment_id\", \"user_id\")\n",
      "\u001b[1m\u001b[22mJoining, by = c(\"comment_id\", \"user_id\")\n",
      "\u001b[1m\u001b[22mJoining, by = \"user_id\"\n"
     ]
    }
   ],
   "source": [
    "source('../scripts/load_data.R')"
   ]
  },
  {
   "cell_type": "code",
   "execution_count": 3,
   "id": "f568c421-0e7a-4bca-bf2a-0998bac018c3",
   "metadata": {},
   "outputs": [],
   "source": [
    "all_comments <- read_csv('../data/comments_cleaned.csv', \n",
    "                         col_types = list(comment_id = col_integer(),\n",
    "                                          story_id = col_integer()))"
   ]
  },
  {
   "cell_type": "code",
   "execution_count": 4,
   "id": "69c3f9b6-61fa-4c51-886a-6e3fcc4d8352",
   "metadata": {},
   "outputs": [
    {
     "name": "stderr",
     "output_type": "stream",
     "text": [
      "\u001b[1m\u001b[22mJoining, by = \"comment_id\"\n"
     ]
    }
   ],
   "source": [
    "df3 <- df_clean %>%\n",
    "  inner_join(all_comments %>% select(comment_id, story_id))"
   ]
  },
  {
   "cell_type": "code",
   "execution_count": 5,
   "id": "11ad0503-9e5b-4ad0-8a93-c02c6fb3fcc2",
   "metadata": {},
   "outputs": [
    {
     "data": {
      "text/html": [
       "<table class=\"dataframe\">\n",
       "<caption>A matrix: 6 × 1 of type int</caption>\n",
       "<tbody>\n",
       "\t<tr><th scope=row>Comment Exposures</th><td>12623814</td></tr>\n",
       "\t<tr><th scope=row>Unique Articles</th><td>   32930</td></tr>\n",
       "\t<tr><th scope=row>Unique Comments</th><td>  346559</td></tr>\n",
       "\t<tr><th scope=row>Unique Commenters</th><td>    3725</td></tr>\n",
       "\t<tr><th scope=row>Unique Viewers</th><td>    6415</td></tr>\n",
       "\t<tr><th scope=row>Unique Pairs</th><td>  737007</td></tr>\n",
       "</tbody>\n",
       "</table>\n"
      ],
      "text/latex": [
       "A matrix: 6 × 1 of type int\n",
       "\\begin{tabular}{r|l}\n",
       "\tComment Exposures & 12623814\\\\\n",
       "\tUnique Articles &    32930\\\\\n",
       "\tUnique Comments &   346559\\\\\n",
       "\tUnique Commenters &     3725\\\\\n",
       "\tUnique Viewers &     6415\\\\\n",
       "\tUnique Pairs &   737007\\\\\n",
       "\\end{tabular}\n"
      ],
      "text/markdown": [
       "\n",
       "A matrix: 6 × 1 of type int\n",
       "\n",
       "| Comment Exposures | 12623814 |\n",
       "| Unique Articles |    32930 |\n",
       "| Unique Comments |   346559 |\n",
       "| Unique Commenters |     3725 |\n",
       "| Unique Viewers |     6415 |\n",
       "| Unique Pairs |   737007 |\n",
       "\n"
      ],
      "text/plain": [
       "                  [,1]    \n",
       "Comment Exposures 12623814\n",
       "Unique Articles      32930\n",
       "Unique Comments     346559\n",
       "Unique Commenters     3725\n",
       "Unique Viewers        6415\n",
       "Unique Pairs        737007"
      ]
     },
     "metadata": {},
     "output_type": "display_data"
    }
   ],
   "source": [
    "df3 %>%\n",
    "  summarise(\n",
    "    `Comment Exposures` = n(),\n",
    "    `Unique Articles` = n_distinct(story_id),\n",
    "    `Unique Comments` = n_distinct(comment_id),\n",
    "    `Unique Commenters` = n_distinct(author_id),\n",
    "    `Unique Viewers` = n_distinct(user_id),\n",
    "    `Unique Pairs` = n_distinct(user_id * 1000000 + author_id),\n",
    "  ) %>%\n",
    "  t()"
   ]
  },
  {
   "cell_type": "code",
   "execution_count": 6,
   "id": "6aeb8822-2b6d-45bf-9061-b378ad7b53d8",
   "metadata": {},
   "outputs": [
    {
     "data": {
      "text/html": [
       "<table class=\"dataframe\">\n",
       "<caption>A matrix: 7 × 2 of type dbl</caption>\n",
       "<tbody>\n",
       "\t<tr><th scope=row>identified</th><td>     0</td><td>       1</td></tr>\n",
       "\t<tr><th scope=row>Comment Exposures</th><td>632855</td><td>11990959</td></tr>\n",
       "\t<tr><th scope=row>Unique Articles</th><td> 25176</td><td>   32910</td></tr>\n",
       "\t<tr><th scope=row>Unique Comments</th><td>227066</td><td>  346469</td></tr>\n",
       "\t<tr><th scope=row>Unique Commenters</th><td>  2944</td><td>    3723</td></tr>\n",
       "\t<tr><th scope=row>Unique Viewers</th><td>  4086</td><td>    6393</td></tr>\n",
       "\t<tr><th scope=row>Unique Pairs</th><td>181919</td><td>  721787</td></tr>\n",
       "</tbody>\n",
       "</table>\n"
      ],
      "text/latex": [
       "A matrix: 7 × 2 of type dbl\n",
       "\\begin{tabular}{r|ll}\n",
       "\tidentified &      0 &        1\\\\\n",
       "\tComment Exposures & 632855 & 11990959\\\\\n",
       "\tUnique Articles &  25176 &    32910\\\\\n",
       "\tUnique Comments & 227066 &   346469\\\\\n",
       "\tUnique Commenters &   2944 &     3723\\\\\n",
       "\tUnique Viewers &   4086 &     6393\\\\\n",
       "\tUnique Pairs & 181919 &   721787\\\\\n",
       "\\end{tabular}\n"
      ],
      "text/markdown": [
       "\n",
       "A matrix: 7 × 2 of type dbl\n",
       "\n",
       "| identified |      0 |        1 |\n",
       "| Comment Exposures | 632855 | 11990959 |\n",
       "| Unique Articles |  25176 |    32910 |\n",
       "| Unique Comments | 227066 |   346469 |\n",
       "| Unique Commenters |   2944 |     3723 |\n",
       "| Unique Viewers |   4086 |     6393 |\n",
       "| Unique Pairs | 181919 |   721787 |\n",
       "\n"
      ],
      "text/plain": [
       "                  [,1]   [,2]    \n",
       "identified             0        1\n",
       "Comment Exposures 632855 11990959\n",
       "Unique Articles    25176    32910\n",
       "Unique Comments   227066   346469\n",
       "Unique Commenters   2944     3723\n",
       "Unique Viewers      4086     6393\n",
       "Unique Pairs      181919   721787"
      ]
     },
     "metadata": {},
     "output_type": "display_data"
    }
   ],
   "source": [
    "df3 %>%\n",
    "  group_by(identified) %>%\n",
    "  summarise(\n",
    "    `Comment Exposures` = n(),\n",
    "    `Unique Articles` = n_distinct(story_id),\n",
    "    `Unique Comments` = n_distinct(comment_id),\n",
    "    `Unique Commenters` = n_distinct(author_id),\n",
    "    `Unique Viewers` = n_distinct(user_id),\n",
    "    `Unique Pairs` = n_distinct(user_id * 1000000 + author_id),\n",
    "  ) %>%\n",
    "  t()"
   ]
  },
  {
   "cell_type": "code",
   "execution_count": 7,
   "id": "2f1437ed-fc32-48b8-96b3-632fdcb5f27c",
   "metadata": {},
   "outputs": [
    {
     "data": {
      "text/html": [
       "<table class=\"dataframe\">\n",
       "<caption>A matrix: 3 × 1 of type dbl</caption>\n",
       "<tbody>\n",
       "\t<tr><th scope=row>Pr(Up)</th><td>0.042400181</td></tr>\n",
       "\t<tr><th scope=row>Pr(Dn)</th><td>0.010869298</td></tr>\n",
       "\t<tr><th scope=row>Pr(Rp)</th><td>0.009298537</td></tr>\n",
       "</tbody>\n",
       "</table>\n"
      ],
      "text/latex": [
       "A matrix: 3 × 1 of type dbl\n",
       "\\begin{tabular}{r|l}\n",
       "\tPr(Up) & 0.042400181\\\\\n",
       "\tPr(Dn) & 0.010869298\\\\\n",
       "\tPr(Rp) & 0.009298537\\\\\n",
       "\\end{tabular}\n"
      ],
      "text/markdown": [
       "\n",
       "A matrix: 3 × 1 of type dbl\n",
       "\n",
       "| Pr(Up) | 0.042400181 |\n",
       "| Pr(Dn) | 0.010869298 |\n",
       "| Pr(Rp) | 0.009298537 |\n",
       "\n"
      ],
      "text/plain": [
       "       [,1]       \n",
       "Pr(Up) 0.042400181\n",
       "Pr(Dn) 0.010869298\n",
       "Pr(Rp) 0.009298537"
      ]
     },
     "metadata": {},
     "output_type": "display_data"
    }
   ],
   "source": [
    "df3 %>%\n",
    "  summarise(\n",
    "    `Pr(Up)` = mean(up),\n",
    "    `Pr(Dn)` = mean(dn),\n",
    "    `Pr(Rp)` = mean(rp),\n",
    "  ) %>%\n",
    "  t()"
   ]
  },
  {
   "cell_type": "code",
   "execution_count": 8,
   "id": "9301d0c3-d69f-481e-a3f8-fca7ba891489",
   "metadata": {},
   "outputs": [
    {
     "data": {
      "text/html": [
       "<table class=\"dataframe\">\n",
       "<caption>A matrix: 4 × 2 of type dbl</caption>\n",
       "<tbody>\n",
       "\t<tr><th scope=row>identified</th><td>0.000000000</td><td>1.000000000</td></tr>\n",
       "\t<tr><th scope=row>Pr(Up)</th><td>0.040546413</td><td>0.042498019</td></tr>\n",
       "\t<tr><th scope=row>Pr(Dn)</th><td>0.010296197</td><td>0.010899545</td></tr>\n",
       "\t<tr><th scope=row>Pr(Rp)</th><td>0.008657591</td><td>0.009332364</td></tr>\n",
       "</tbody>\n",
       "</table>\n"
      ],
      "text/latex": [
       "A matrix: 4 × 2 of type dbl\n",
       "\\begin{tabular}{r|ll}\n",
       "\tidentified & 0.000000000 & 1.000000000\\\\\n",
       "\tPr(Up) & 0.040546413 & 0.042498019\\\\\n",
       "\tPr(Dn) & 0.010296197 & 0.010899545\\\\\n",
       "\tPr(Rp) & 0.008657591 & 0.009332364\\\\\n",
       "\\end{tabular}\n"
      ],
      "text/markdown": [
       "\n",
       "A matrix: 4 × 2 of type dbl\n",
       "\n",
       "| identified | 0.000000000 | 1.000000000 |\n",
       "| Pr(Up) | 0.040546413 | 0.042498019 |\n",
       "| Pr(Dn) | 0.010296197 | 0.010899545 |\n",
       "| Pr(Rp) | 0.008657591 | 0.009332364 |\n",
       "\n"
      ],
      "text/plain": [
       "           [,1]        [,2]       \n",
       "identified 0.000000000 1.000000000\n",
       "Pr(Up)     0.040546413 0.042498019\n",
       "Pr(Dn)     0.010296197 0.010899545\n",
       "Pr(Rp)     0.008657591 0.009332364"
      ]
     },
     "metadata": {},
     "output_type": "display_data"
    }
   ],
   "source": [
    "df3 %>%\n",
    "  group_by(identified) %>%\n",
    "  summarise(\n",
    "    `Pr(Up)` = mean(up),\n",
    "    `Pr(Dn)` = mean(dn),\n",
    "    `Pr(Rp)` = mean(rp),\n",
    "  ) %>%\n",
    "  t()"
   ]
  },
  {
   "cell_type": "code",
   "execution_count": 9,
   "id": "718a44d2-b8e2-4a39-a379-e24ceb319d64",
   "metadata": {},
   "outputs": [
    {
     "data": {
      "text/html": [
       "<table class=\"dataframe\">\n",
       "<caption>A tibble: 1 × 1</caption>\n",
       "<thead>\n",
       "\t<tr><th scope=col>Comments / Article</th></tr>\n",
       "\t<tr><th scope=col>&lt;dbl&gt;</th></tr>\n",
       "</thead>\n",
       "<tbody>\n",
       "\t<tr><td>10.52411</td></tr>\n",
       "</tbody>\n",
       "</table>\n"
      ],
      "text/latex": [
       "A tibble: 1 × 1\n",
       "\\begin{tabular}{l}\n",
       " Comments / Article\\\\\n",
       " <dbl>\\\\\n",
       "\\hline\n",
       "\t 10.52411\\\\\n",
       "\\end{tabular}\n"
      ],
      "text/markdown": [
       "\n",
       "A tibble: 1 × 1\n",
       "\n",
       "| Comments / Article &lt;dbl&gt; |\n",
       "|---|\n",
       "| 10.52411 |\n",
       "\n"
      ],
      "text/plain": [
       "  Comments / Article\n",
       "1 10.52411          "
      ]
     },
     "metadata": {},
     "output_type": "display_data"
    }
   ],
   "source": [
    "df3 %>%\n",
    "  group_by(story_id) %>%\n",
    "  summarise(comments = n_distinct(comment_id)) %>%\n",
    "  summarise(`Comments / Article` = mean(comments))"
   ]
  },
  {
   "cell_type": "code",
   "execution_count": 10,
   "id": "709aa7a9-b273-4b52-bdd3-2af2ae04dbb8",
   "metadata": {},
   "outputs": [
    {
     "data": {
      "text/html": [
       "<table class=\"dataframe\">\n",
       "<caption>A tibble: 1 × 1</caption>\n",
       "<thead>\n",
       "\t<tr><th scope=col>Comments / Commenter</th></tr>\n",
       "\t<tr><th scope=col>&lt;dbl&gt;</th></tr>\n",
       "</thead>\n",
       "<tbody>\n",
       "\t<tr><td>93.03597</td></tr>\n",
       "</tbody>\n",
       "</table>\n"
      ],
      "text/latex": [
       "A tibble: 1 × 1\n",
       "\\begin{tabular}{l}\n",
       " Comments / Commenter\\\\\n",
       " <dbl>\\\\\n",
       "\\hline\n",
       "\t 93.03597\\\\\n",
       "\\end{tabular}\n"
      ],
      "text/markdown": [
       "\n",
       "A tibble: 1 × 1\n",
       "\n",
       "| Comments / Commenter &lt;dbl&gt; |\n",
       "|---|\n",
       "| 93.03597 |\n",
       "\n"
      ],
      "text/plain": [
       "  Comments / Commenter\n",
       "1 93.03597            "
      ]
     },
     "metadata": {},
     "output_type": "display_data"
    }
   ],
   "source": [
    "df3 %>%\n",
    "  group_by(author_id) %>%\n",
    "  summarise(comments = n_distinct(comment_id)) %>%\n",
    "  summarise(`Comments / Commenter` = mean(comments))"
   ]
  },
  {
   "cell_type": "code",
   "execution_count": 11,
   "id": "d09c3c54-b9e4-4904-8166-4b89172292da",
   "metadata": {},
   "outputs": [
    {
     "data": {
      "text/html": [
       "<table class=\"dataframe\">\n",
       "<caption>A matrix: 4 × 1 of type dbl</caption>\n",
       "<tbody>\n",
       "\t<tr><th scope=row>Exposures / Viewer</th><td>1967.85877</td></tr>\n",
       "\t<tr><th scope=row>Up-votes / Viewer</th><td>  83.43757</td></tr>\n",
       "\t<tr><th scope=row>Down-votes / Viewer</th><td>  21.38924</td></tr>\n",
       "\t<tr><th scope=row>Replies / Viewer</th><td>  18.29821</td></tr>\n",
       "</tbody>\n",
       "</table>\n"
      ],
      "text/latex": [
       "A matrix: 4 × 1 of type dbl\n",
       "\\begin{tabular}{r|l}\n",
       "\tExposures / Viewer & 1967.85877\\\\\n",
       "\tUp-votes / Viewer &   83.43757\\\\\n",
       "\tDown-votes / Viewer &   21.38924\\\\\n",
       "\tReplies / Viewer &   18.29821\\\\\n",
       "\\end{tabular}\n"
      ],
      "text/markdown": [
       "\n",
       "A matrix: 4 × 1 of type dbl\n",
       "\n",
       "| Exposures / Viewer | 1967.85877 |\n",
       "| Up-votes / Viewer |   83.43757 |\n",
       "| Down-votes / Viewer |   21.38924 |\n",
       "| Replies / Viewer |   18.29821 |\n",
       "\n"
      ],
      "text/plain": [
       "                    [,1]      \n",
       "Exposures / Viewer  1967.85877\n",
       "Up-votes / Viewer     83.43757\n",
       "Down-votes / Viewer   21.38924\n",
       "Replies / Viewer      18.29821"
      ]
     },
     "metadata": {},
     "output_type": "display_data"
    }
   ],
   "source": [
    "df3 %>%\n",
    "  group_by(user_id) %>%\n",
    "  summarise(exposures = n(), up = sum(up), dn = sum(dn), rp = sum(rp)) %>%\n",
    "  summarise(`Exposures / Viewer` = mean(exposures),\n",
    "            `Up-votes / Viewer` = mean(up),\n",
    "            `Down-votes / Viewer` = mean(dn),\n",
    "            `Replies / Viewer` = mean(rp),\n",
    "           ) %>%\n",
    "  t()"
   ]
  },
  {
   "cell_type": "code",
   "execution_count": 12,
   "id": "1b53d158-5099-4efc-8011-3b40e8aabf75",
   "metadata": {},
   "outputs": [
    {
     "name": "stderr",
     "output_type": "stream",
     "text": [
      "\u001b[1m\u001b[22m`summarise()` has grouped output by 'identified'. You can override using the `.groups` argument.\n"
     ]
    },
    {
     "data": {
      "text/html": [
       "<table class=\"dataframe\">\n",
       "<caption>A tibble: 2 × 2</caption>\n",
       "<thead>\n",
       "\t<tr><th scope=col>identified</th><th scope=col>Exposures / Viewer</th></tr>\n",
       "\t<tr><th scope=col>&lt;dbl&gt;</th><th scope=col>&lt;dbl&gt;</th></tr>\n",
       "</thead>\n",
       "<tbody>\n",
       "\t<tr><td>0</td><td> 154.8837</td></tr>\n",
       "\t<tr><td>1</td><td>1875.6388</td></tr>\n",
       "</tbody>\n",
       "</table>\n"
      ],
      "text/latex": [
       "A tibble: 2 × 2\n",
       "\\begin{tabular}{ll}\n",
       " identified & Exposures / Viewer\\\\\n",
       " <dbl> & <dbl>\\\\\n",
       "\\hline\n",
       "\t 0 &  154.8837\\\\\n",
       "\t 1 & 1875.6388\\\\\n",
       "\\end{tabular}\n"
      ],
      "text/markdown": [
       "\n",
       "A tibble: 2 × 2\n",
       "\n",
       "| identified &lt;dbl&gt; | Exposures / Viewer &lt;dbl&gt; |\n",
       "|---|---|\n",
       "| 0 |  154.8837 |\n",
       "| 1 | 1875.6388 |\n",
       "\n"
      ],
      "text/plain": [
       "  identified Exposures / Viewer\n",
       "1 0           154.8837         \n",
       "2 1          1875.6388         "
      ]
     },
     "metadata": {},
     "output_type": "display_data"
    }
   ],
   "source": [
    "df3 %>%\n",
    "  group_by(identified, user_id) %>%\n",
    "  summarise(exposures = n()) %>%\n",
    "  summarise(`Exposures / Viewer` = mean(exposures))"
   ]
  },
  {
   "cell_type": "code",
   "execution_count": 13,
   "id": "a0f7237e-bb67-40f3-b6cb-2c017903d1bd",
   "metadata": {},
   "outputs": [
    {
     "data": {
      "text/html": [
       "<table class=\"dataframe\">\n",
       "<caption>A matrix: 4 × 1 of type dbl</caption>\n",
       "<tbody>\n",
       "\t<tr><th scope=row>Exposures / Comment</th><td>36.4261612</td></tr>\n",
       "\t<tr><th scope=row>Up-votes / Comment</th><td> 1.5444758</td></tr>\n",
       "\t<tr><th scope=row>Down-votes / Comment</th><td> 0.3959268</td></tr>\n",
       "\t<tr><th scope=row>Replies / Comment</th><td> 0.3387100</td></tr>\n",
       "</tbody>\n",
       "</table>\n"
      ],
      "text/latex": [
       "A matrix: 4 × 1 of type dbl\n",
       "\\begin{tabular}{r|l}\n",
       "\tExposures / Comment & 36.4261612\\\\\n",
       "\tUp-votes / Comment &  1.5444758\\\\\n",
       "\tDown-votes / Comment &  0.3959268\\\\\n",
       "\tReplies / Comment &  0.3387100\\\\\n",
       "\\end{tabular}\n"
      ],
      "text/markdown": [
       "\n",
       "A matrix: 4 × 1 of type dbl\n",
       "\n",
       "| Exposures / Comment | 36.4261612 |\n",
       "| Up-votes / Comment |  1.5444758 |\n",
       "| Down-votes / Comment |  0.3959268 |\n",
       "| Replies / Comment |  0.3387100 |\n",
       "\n"
      ],
      "text/plain": [
       "                     [,1]      \n",
       "Exposures / Comment  36.4261612\n",
       "Up-votes / Comment    1.5444758\n",
       "Down-votes / Comment  0.3959268\n",
       "Replies / Comment     0.3387100"
      ]
     },
     "metadata": {},
     "output_type": "display_data"
    }
   ],
   "source": [
    "df3 %>%\n",
    "  group_by(comment_id) %>%\n",
    "  summarise(exposures = n(), up = sum(up), dn = sum(dn), rp = sum(rp)) %>%\n",
    "  summarise(`Exposures / Comment` = mean(exposures),\n",
    "            `Up-votes / Comment` = mean(up),\n",
    "            `Down-votes / Comment` = mean(dn),\n",
    "            `Replies / Comment` = mean(rp),\n",
    "           ) %>%\n",
    "  t()"
   ]
  },
  {
   "cell_type": "code",
   "execution_count": 14,
   "id": "53240528-11cf-488e-a1f6-568847757a61",
   "metadata": {},
   "outputs": [
    {
     "name": "stderr",
     "output_type": "stream",
     "text": [
      "\u001b[1m\u001b[22m`summarise()` has grouped output by 'identified'. You can override using the `.groups` argument.\n"
     ]
    },
    {
     "data": {
      "text/html": [
       "<table class=\"dataframe\">\n",
       "<caption>A matrix: 5 × 2 of type dbl</caption>\n",
       "<tbody>\n",
       "\t<tr><th scope=row>identified</th><td>0.00000000</td><td> 1.0000000</td></tr>\n",
       "\t<tr><th scope=row>Exposures / Comment</th><td>2.78709714</td><td>34.6090386</td></tr>\n",
       "\t<tr><th scope=row>Up-votes / Comment</th><td>0.11300679</td><td> 1.4708156</td></tr>\n",
       "\t<tr><th scope=row>Down-votes / Comment</th><td>0.02869650</td><td> 0.3772228</td></tr>\n",
       "\t<tr><th scope=row>Replies / Comment</th><td>0.02412955</td><td> 0.3229842</td></tr>\n",
       "</tbody>\n",
       "</table>\n"
      ],
      "text/latex": [
       "A matrix: 5 × 2 of type dbl\n",
       "\\begin{tabular}{r|ll}\n",
       "\tidentified & 0.00000000 &  1.0000000\\\\\n",
       "\tExposures / Comment & 2.78709714 & 34.6090386\\\\\n",
       "\tUp-votes / Comment & 0.11300679 &  1.4708156\\\\\n",
       "\tDown-votes / Comment & 0.02869650 &  0.3772228\\\\\n",
       "\tReplies / Comment & 0.02412955 &  0.3229842\\\\\n",
       "\\end{tabular}\n"
      ],
      "text/markdown": [
       "\n",
       "A matrix: 5 × 2 of type dbl\n",
       "\n",
       "| identified | 0.00000000 |  1.0000000 |\n",
       "| Exposures / Comment | 2.78709714 | 34.6090386 |\n",
       "| Up-votes / Comment | 0.11300679 |  1.4708156 |\n",
       "| Down-votes / Comment | 0.02869650 |  0.3772228 |\n",
       "| Replies / Comment | 0.02412955 |  0.3229842 |\n",
       "\n"
      ],
      "text/plain": [
       "                     [,1]       [,2]      \n",
       "identified           0.00000000  1.0000000\n",
       "Exposures / Comment  2.78709714 34.6090386\n",
       "Up-votes / Comment   0.11300679  1.4708156\n",
       "Down-votes / Comment 0.02869650  0.3772228\n",
       "Replies / Comment    0.02412955  0.3229842"
      ]
     },
     "metadata": {},
     "output_type": "display_data"
    }
   ],
   "source": [
    "df3 %>%\n",
    "  group_by(identified, comment_id) %>%\n",
    "  summarise(exposures = n(), up = sum(up), dn = sum(dn), rp = sum(rp)) %>%\n",
    "  summarise(`Exposures / Comment` = mean(exposures),\n",
    "            `Up-votes / Comment` = mean(up),\n",
    "            `Down-votes / Comment` = mean(dn),\n",
    "            `Replies / Comment` = mean(rp),\n",
    "           ) %>%\n",
    "  t()"
   ]
  }
 ],
 "metadata": {
  "kernelspec": {
   "display_name": "R",
   "language": "R",
   "name": "ir"
  },
  "language_info": {
   "codemirror_mode": "r",
   "file_extension": ".r",
   "mimetype": "text/x-r-source",
   "name": "R",
   "pygments_lexer": "r",
   "version": "4.1.2"
  }
 },
 "nbformat": 4,
 "nbformat_minor": 5
}
